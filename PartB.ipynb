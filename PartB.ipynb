{
 "nbformat": 4,
 "nbformat_minor": 0,
 "metadata": {
  "colab": {
   "name": "Project2-PartB.ipynb",
   "version": "0.3.2",
   "provenance": [],
   "collapsed_sections": [
    "dJmPyewf44XC",
    "CjV8FVDP5nAS",
    "ufwbjh1x58Pr",
    "cOPQzXN516mo",
    "2odb-BYmdSEG",
    "AxIxY8byx3S4",
    "WAI5M7vnd2wx",
    "jcM3L935dobF",
    "-R8nWlYTxq2p",
    "nhkyoXcHrwZ2",
    "zFt5qwY3sQb_",
    "Ld18AbB14bqy",
    "AToVtWTGtIlt",
    "Gu1fGS5fKo83",
    "2QM4Ol55KrF7"
   ],
   "toc_visible": true
  },
  "kernelspec": {
   "name": "python3",
   "language": "python",
   "display_name": "Python 3"
  },
  "pycharm": {
   "stem_cell": {
    "cell_type": "raw",
    "source": [],
    "metadata": {
     "collapsed": false
    }
   }
  }
 },
 "cells": [
  {
   "cell_type": "markdown",
   "metadata": {
    "colab_type": "text",
    "id": "RgKlxpR-BeDx",
    "pycharm": {}
   },
   "source": [
    "#### Adamantios Zaras AM: 06\n",
    "#### Panagiotis Souranis AM: 17"
   ]
  },
  {
   "cell_type": "markdown",
   "metadata": {
    "colab_type": "text",
    "id": "UvMOu3Fd4z9P",
    "pycharm": {}
   },
   "source": [
    "# Description\n",
    "\n",
    "In this part of the project, we created a bag of sentences for each document and worked with the most frequent class.\n",
    "We transformed the problem, using the K-medoids approach, following the steps below:\n",
    "1. Create a distance matrix of the bags, using the Hausdorff distance between each pair of documents.\n",
    "2. Use the distance matrix, in order to cluster the bags, using the K-Medoids algorithm. Search for the number of clusters which gives the highest silhouette score for the documents.\n",
    "3. Calculate the distance of each document from the resulting medoids and keep them as new features.\n",
    "\n",
    "After the transformation of the problem, we searched for classifiers and hyperparameters, using the new dataset.  \n",
    "Finally, we chose the classifier and the hyperparameters and used them in order to present the final results."
   ]
  },
  {
   "cell_type": "markdown",
   "metadata": {
    "colab_type": "text",
    "id": "dJmPyewf44XC",
    "pycharm": {}
   },
   "source": [
    "# Preparation"
   ]
  },
  {
   "cell_type": "code",
   "metadata": {
    "colab_type": "code",
    "id": "Ubj0XegWl_QS",
    "pycharm": {},
    "colab": {}
   },
   "source": [
    "import re\n",
    "import warnings\n",
    "from itertools import combinations\n",
    "\n",
    "import matplotlib.pyplot as plt\n",
    "import pandas as pd\n",
    "import scipy\n",
    "import scipy.stats as sp\n",
    "from keras.preprocessing.sequence import pad_sequences\n",
    "from mpl_toolkits.mplot3d import Axes3D\n",
    "from scipy.spatial.distance import directed_hausdorff as hausdorff_distance\n",
    "from sklearn.metrics import accuracy_score, precision_score, recall_score, f1_score\n",
    "from sklearn.metrics import make_scorer\n",
    "from sklearn.naive_bayes import MultinomialNB\n",
    "from sklearn.preprocessing import MinMaxScaler\n",
    "from sklearn.svm import SVC\n",
    "from sklearn.tree import DecisionTreeClassifier\n",
    "\n",
    "from k_medoids import *\n",
    "from utils import hyperparameters_search\n",
    "warnings.filterwarnings(\"ignore\")"
   ],
   "execution_count": 0,
   "outputs": []
  },
  {
   "cell_type": "markdown",
   "metadata": {
    "colab_type": "text",
    "id": "ufwbjh1x58Pr",
    "pycharm": {}
   },
   "source": [
    "## Prepare Dataset"
   ]
  },
  {
   "cell_type": "markdown",
   "metadata": {
    "id": "lCiXz71RHGYB",
    "colab_type": "text"
   },
   "source": [
    "Create a dataframe which contains a bag for each sentence and pair them with an id of the document that they belong to.  \n",
    "Add the labels too."
   ]
  },
  {
   "cell_type": "code",
   "metadata": {
    "id": "8jVamWcBg-89",
    "colab_type": "code",
    "colab": {}
   },
   "source": [
    "def create_bags_of_sentences(documents_path: str, labels_path: str) -> pd.DataFrame:\n",
    "    \"\"\"\n",
    "    Creates a bag of sentences.\n",
    "\n",
    "    :param documents_path: the path to the documents.\n",
    "    :param labels_path: the path to the labels.\n",
    "    :return: Pandas Dataframe containing the bag of sentences.\n",
    "    \"\"\"\n",
    "    # Get the most frequent class only.\n",
    "    labels = pd.read_csv(labels_path, header=None)\n",
    "    labels = labels[0].map(lambda x: np.array([int(lab) for lab in x.split()]))\n",
    "    labels = np.array(labels.tolist())\n",
    "    most_frequent_counts = np.sum(np.transpose(labels), axis=1)\n",
    "    most_frequent_index = most_frequent_counts.argmax()\n",
    "    labels = labels[:, most_frequent_index]\n",
    "\n",
    "    # Open documents file.\n",
    "    documents_file = open(documents_path, 'r')\n",
    "\n",
    "    # Initialize counters and bag of sentences dictionary.\n",
    "    document_counter = 0\n",
    "    sentence_count = 0\n",
    "    bag_of_sentences = {}\n",
    "\n",
    "    for document, label in zip(documents_file, labels):\n",
    "        # Parse document.\n",
    "        parsed_document = re.split(r'<\\d+>', document)\n",
    "\n",
    "        for sentence in parsed_document:\n",
    "            # Remove leading and trailing whitespaces.\n",
    "            sentence = sentence.strip()\n",
    "\n",
    "            # If sentence is not empty.\n",
    "            if sentence:\n",
    "                # Store words to an array of ints, since they are just ids.\n",
    "                words = np.asarray(sentence.split(\" \"), dtype=np.int32)\n",
    "                # Add a sentence to the bag.\n",
    "                bag_of_sentences[sentence_count] = (document_counter, words, label)\n",
    "                sentence_count += 1\n",
    "\n",
    "        document_counter += 1\n",
    "\n",
    "    # Close documents file.\n",
    "    documents_file.close()\n",
    "\n",
    "    # Create dataframe of the bag.\n",
    "    df = pd.DataFrame.from_dict(bag_of_sentences, orient='index',\n",
    "                                columns = ['Bag', 'Sentence', 'Class'])\n",
    "\n",
    "    return df\n",
    "\n",
    "# Create bags of sentences for the train and test data.\n",
    "train_df = create_bags_of_sentences('MLTM/Data/Delicious/train-data.dat', \n",
    "                           'MLTM/Data/Delicious/train-label.dat')\n",
    "test_df = create_bags_of_sentences('MLTM/Data/Delicious/test-data.dat', \n",
    "                          'MLTM/Data/Delicious/test-label.dat')"
   ],
   "execution_count": 0,
   "outputs": []
  },
  {
   "cell_type": "markdown",
   "metadata": {
    "id": "4SxYKhvOvN14",
    "colab_type": "text"
   },
   "source": [
    "Demonstrate data structure."
   ]
  },
  {
   "cell_type": "code",
   "metadata": {
    "id": "lJDDIxQxKtZq",
    "colab_type": "code",
    "outputId": "893d2d26-0b0d-4390-a251-004a01e91329",
    "colab": {
     "base_uri": "https://localhost:8080/",
     "height": 206
    }
   },
   "source": [
    "train_df.head()"
   ],
   "execution_count": 4,
   "outputs": [
    {
     "output_type": "execute_result",
     "data": {
      "text/html": [
       "<div>\n",
       "<style scoped>\n",
       "    .dataframe tbody tr th:only-of-type {\n",
       "        vertical-align: middle;\n",
       "    }\n",
       "\n",
       "    .dataframe tbody tr th {\n",
       "        vertical-align: top;\n",
       "    }\n",
       "\n",
       "    .dataframe thead th {\n",
       "        text-align: right;\n",
       "    }\n",
       "</style>\n",
       "<table border=\"1\" class=\"dataframe\">\n",
       "  <thead>\n",
       "    <tr style=\"text-align: right;\">\n",
       "      <th></th>\n",
       "      <th>Bag</th>\n",
       "      <th>Sentence</th>\n",
       "      <th>Class</th>\n",
       "    </tr>\n",
       "  </thead>\n",
       "  <tbody>\n",
       "    <tr>\n",
       "      <th>0</th>\n",
       "      <td>0</td>\n",
       "      <td>[6705, 5997, 8310, 3606, 674, 8058, 5044, 4836]</td>\n",
       "      <td>1</td>\n",
       "    </tr>\n",
       "    <tr>\n",
       "      <th>1</th>\n",
       "      <td>0</td>\n",
       "      <td>[4312, 5154, 8310, 4225]</td>\n",
       "      <td>1</td>\n",
       "    </tr>\n",
       "    <tr>\n",
       "      <th>2</th>\n",
       "      <td>1</td>\n",
       "      <td>[1827, 1037, 8482, 483]</td>\n",
       "      <td>1</td>\n",
       "    </tr>\n",
       "    <tr>\n",
       "      <th>3</th>\n",
       "      <td>1</td>\n",
       "      <td>[3567, 6172, 6172, 2892, 1362, 787, 399, 777, ...</td>\n",
       "      <td>1</td>\n",
       "    </tr>\n",
       "    <tr>\n",
       "      <th>4</th>\n",
       "      <td>1</td>\n",
       "      <td>[318, 769, 4621, 3199, 1480, 6213, 971, 6890]</td>\n",
       "      <td>1</td>\n",
       "    </tr>\n",
       "  </tbody>\n",
       "</table>\n",
       "</div>"
      ],
      "text/plain": [
       "   Bag                                           Sentence  Class\n",
       "0    0    [6705, 5997, 8310, 3606, 674, 8058, 5044, 4836]      1\n",
       "1    0                           [4312, 5154, 8310, 4225]      1\n",
       "2    1                            [1827, 1037, 8482, 483]      1\n",
       "3    1  [3567, 6172, 6172, 2892, 1362, 787, 399, 777, ...      1\n",
       "4    1      [318, 769, 4621, 3199, 1480, 6213, 971, 6890]      1"
      ]
     },
     "metadata": {
      "tags": []
     },
     "execution_count": 4
    }
   ]
  },
  {
   "cell_type": "markdown",
   "metadata": {
    "id": "Vnc64GPsH6fA",
    "colab_type": "text"
   },
   "source": [
    "Merge the bags that belong to the same document, in order to create the training and test databags-labels pairs."
   ]
  },
  {
   "cell_type": "code",
   "metadata": {
    "id": "KZOytc7XvNJ9",
    "colab_type": "code",
    "colab": {}
   },
   "source": [
    "def create_bag_per_document(df: pd.DataFrame):\n",
    "    \"\"\"\n",
    "    Parse a sentences dataframe \n",
    "    and get a bag of sentences for each document, with its labels.\n",
    "\n",
    "    :param df: the dataframe.\n",
    "    :return: the data and the labels.\n",
    "    \"\"\"\n",
    "    ids, X, y = np.array(df['Bag']), np.array(df['Sentence']), np.array(df['Class'])\n",
    "    un_id = np.unique(ids)\n",
    "    data = []\n",
    "    labels = []\n",
    "\n",
    "    for i in range(un_id.shape[0]):\n",
    "        bag = X[np.where(ids == i)]\n",
    "        data.append(bag)\n",
    "        label = y[np.where(ids == i)]\n",
    "        labels.append(label)\n",
    "\n",
    "    data = np.array(data)\n",
    "    labels = np.array(labels)\n",
    "    labels = np.array([labels[i][0] for i in range(labels.shape[0])])\n",
    "\n",
    "    # Pad sentences for 40 words per sentence max.\n",
    "    for i, sentence in enumerate(data):\n",
    "      data[i] = pad_sequences(sentence, maxlen=40)\n",
    "\n",
    "    return data, labels\n",
    "\n",
    "# Get the bags and the labels.\n",
    "train_bag, y_train = create_bag_per_document(train_df)\n",
    "test_bag, y_test = create_bag_per_document(test_df)"
   ],
   "execution_count": 0,
   "outputs": []
  },
  {
   "cell_type": "markdown",
   "metadata": {
    "id": "cOPQzXN516mo",
    "colab_type": "text"
   },
   "source": [
    "## Transform Problem"
   ]
  },
  {
   "cell_type": "markdown",
   "metadata": {
    "id": "3LmZtpbg2JY_",
    "colab_type": "text"
   },
   "source": [
    "In this section, we transform the problem, using the K-medoids approach."
   ]
  },
  {
   "cell_type": "markdown",
   "metadata": {
    "id": "2odb-BYmdSEG",
    "colab_type": "text"
   },
   "source": [
    "#### Distance matrix."
   ]
  },
  {
   "cell_type": "markdown",
   "metadata": {
    "id": "ADXKHhqYfhT2",
    "colab_type": "text"
   },
   "source": [
    "First we calculate the distance matrix."
   ]
  },
  {
   "cell_type": "code",
   "metadata": {
    "id": "fCnc8IEl8qGx",
    "colab_type": "code",
    "colab": {}
   },
   "source": [
    "def hausdorff_symmetric(x, y):\n",
    "    \"\"\"Calculate symmetric hausdorff distance.\"\"\"\n",
    "    return max(hausdorff_distance(x, y)[0], hausdorff_distance(y, x)[0])"
   ],
   "execution_count": 0,
   "outputs": []
  },
  {
   "cell_type": "code",
   "metadata": {
    "id": "fsenF-ce1-gg",
    "colab_type": "code",
    "colab": {}
   },
   "source": [
    "# Initialize distance matrix.\n",
    "n_data = train_bag.shape[0]\n",
    "distance_matrix = np.zeros((n_data, n_data))\n",
    "\n",
    "# Calculate symmetric haussdorff distances.\n",
    "for (i, x), (j, y) in combinations(enumerate(train_bag), 2):\n",
    "    distance_matrix[i, j] = hausdorff_symmetric(x, y)\n",
    "    distance_matrix[j, i] = distance_matrix[i, j]\n"
   ],
   "execution_count": 0,
   "outputs": []
  },
  {
   "cell_type": "markdown",
   "metadata": {
    "colab_type": "text",
    "id": "WAI5M7vnd2wx"
   },
   "source": [
    "#### Cluster"
   ]
  },
  {
   "cell_type": "markdown",
   "metadata": {
    "colab_type": "text",
    "id": "pnzIqW7ifY_2"
   },
   "source": [
    "Then we perform Grid search in order to find a suitable number of clusters, using the silhouette metric."
   ]
  },
  {
   "cell_type": "code",
   "metadata": {
    "id": "CPUwUeBOxq14",
    "colab_type": "code",
    "outputId": "443e92a1-c891-41cf-f535-9db07e4baedf",
    "colab": {
     "base_uri": "https://localhost:8080/",
     "height": 54
    }
   },
   "source": [
    "parameters = range(3, 200, 40)\n",
    "res = grid_search_cv(distance_matrix,parameters,cv=4)"
   ],
   "execution_count": 9,
   "outputs": [
    {
     "output_type": "stream",
     "text": [
      "Best Silhouette score found after Grid search : 0.0313\n",
      "Best parameter : 3\n"
     ],
     "name": "stdout"
    }
   ]
  },
  {
   "cell_type": "markdown",
   "metadata": {
    "id": "AkNFyRs22JbZ",
    "colab_type": "text"
   },
   "source": [
    "Visualize the silhouette coefficient vs number of clusters."
   ]
  },
  {
   "cell_type": "code",
   "metadata": {
    "id": "6XWcvqvGxq2C",
    "colab_type": "code",
    "outputId": "68139dbf-a4d2-4664-fd5c-bf310615a10e",
    "colab": {
     "base_uri": "https://localhost:8080/",
     "height": 392
    }
   },
   "source": [
    "plt.figure(figsize=(6, 6))\n",
    "plt.plot(parameters, res,'--', color='r', marker='p')\n",
    "plt.xlabel('Value of K')\n",
    "plt.ylabel('Silhouette Coefficient')\n",
    "plt.show()"
   ],
   "execution_count": 10,
   "outputs": [
    {
     "output_type": "display_data",
     "data": {
      "image/png": "[encoded data removed]",
      "text/plain": [
       "<Figure size 432x432 with 1 Axes>"
      ]
     },
     "metadata": {
      "tags": []
     }
    }
   ]
  },
  {
   "cell_type": "markdown",
   "metadata": {
    "id": "9o_W5En1JEDL",
    "colab_type": "text"
   },
   "source": [
    "Generate the final medoids, using the best number of clusters."
   ]
  },
  {
   "cell_type": "code",
   "metadata": {
    "id": "Jzz9E61zxq2I",
    "colab_type": "code",
    "colab": {}
   },
   "source": [
    "init_medoids = sample(range(distance_matrix.shape[0]), 3)\n",
    "clusterer = KMedoids(init_medoids).fit(distance_matrix)\n",
    "final_medoids = train_bag[clusterer.predict(distance_matrix)]"
   ],
   "execution_count": 0,
   "outputs": []
  },
  {
   "cell_type": "markdown",
   "metadata": {
    "id": "jcM3L935dobF",
    "colab_type": "text"
   },
   "source": [
    "#### Generate features."
   ]
  },
  {
   "cell_type": "markdown",
   "metadata": {
    "id": "N87wXlB7fxI0",
    "colab_type": "text"
   },
   "source": [
    "Finally we transform the data, using the distances from the medoids as features."
   ]
  },
  {
   "cell_type": "code",
   "metadata": {
    "id": "QTZXp_O-do2u",
    "colab_type": "code",
    "colab": {}
   },
   "source": [
    "def generate_features(data_bag, medoids) -> np.ndarray:\n",
    "    \"\"\"\n",
    "    Generates features from a bag of instances and some medoids.\n",
    "\n",
    "    :param data_bag: the bag of instances.\n",
    "    :param medoids: the medoids features.\n",
    "    :return: a numpy array containing the data with their generated features.\n",
    "    \"\"\"\n",
    "    data_transformed = np.empty((len(data_bag), len(medoids)))\n",
    "\n",
    "    # Generate features, using the distances from the medoids.\n",
    "    for i, x in enumerate(data_bag):\n",
    "        for j, medoid in enumerate(medoids):\n",
    "            data_transformed[i][j] = hausdorff_symmetric(x, medoid)\n",
    "\n",
    "    # Normalize distance features to [0, 1].\n",
    "    scaler = MinMaxScaler()\n",
    "    scaler.fit_transform(data_transformed)\n",
    "\n",
    "    return data_transformed\n",
    "\n",
    "# Transform data.\n",
    "X_train_transformed = generate_features(train_bag, final_medoids)\n",
    "X_test_transformed = generate_features(test_bag, final_medoids)"
   ],
   "execution_count": 0,
   "outputs": []
  },
  {
   "cell_type": "markdown",
   "metadata": {
    "id": "J1Lk7XHKgqIp",
    "colab_type": "text"
   },
   "source": [
    "Demonstrate new dataset shape."
   ]
  },
  {
   "cell_type": "code",
   "metadata": {
    "colab_type": "code",
    "id": "RV8WP4FDgnGZ",
    "outputId": "15c231d3-e8b5-4839-90b1-9a1b789b2aea",
    "colab": {
     "base_uri": "https://localhost:8080/",
     "height": 54
    }
   },
   "source": [
    "print('New X train data shape: {}'.format(X_train_transformed.shape))\n",
    "print('New X test  data shape: {}'.format(X_test_transformed.shape))"
   ],
   "execution_count": 16,
   "outputs": [
    {
     "output_type": "stream",
     "text": [
      "New X train data shape: (8251, 3)\n",
      "New X test  data shape: (3983, 3)\n"
     ],
     "name": "stdout"
    }
   ]
  },
  {
   "cell_type": "markdown",
   "metadata": {
    "id": "-R8nWlYTxq2p",
    "colab_type": "text"
   },
   "source": [
    "#### Visualization"
   ]
  },
  {
   "cell_type": "markdown",
   "metadata": {
    "id": "KKXEaXVszEEY",
    "colab_type": "text"
   },
   "source": [
    "Visualize our new training data with 3 features."
   ]
  },
  {
   "cell_type": "code",
   "metadata": {
    "id": "weyEMrtYxq2p",
    "colab_type": "code",
    "outputId": "28d842a4-d571-49ae-b0cb-c602444ed5b0",
    "colab": {
     "base_uri": "https://localhost:8080/",
     "height": 391
    }
   },
   "source": [
    "fig = plt.figure(figsize=(5,5))\n",
    "ax = Axes3D(fig)\n",
    "\n",
    "x = X_train_transformed[:,0]\n",
    "y = X_train_transformed[:,1]\n",
    "z = X_train_transformed[:,2]\n",
    "\n",
    "\n",
    "ax.scatter(x, y, z,c=x, marker='o')\n",
    "ax.set_xlabel('feature 1')\n",
    "ax.set_ylabel('feature 2')\n",
    "ax.set_zlabel('feature 3')\n",
    "\n",
    "plt.show()"
   ],
   "execution_count": 20,
   "outputs": [
    {
     "output_type": "display_data",
     "data": {
      "image/png": "[encoded data removed]",
      "text/plain": [
       "<Figure size 360x360 with 1 Axes>"
      ]
     },
     "metadata": {
      "tags": []
     }
    }
   ]
  },
  {
   "cell_type": "markdown",
   "metadata": {
    "colab_type": "text",
    "id": "nhkyoXcHrwZ2"
   },
   "source": [
    "# Hyperparameters search"
   ]
  },
  {
   "cell_type": "markdown",
   "metadata": {
    "colab_type": "text",
    "id": "zFt5qwY3sQb_"
   },
   "source": [
    "## Random Search"
   ]
  },
  {
   "cell_type": "markdown",
   "metadata": {
    "id": "d28YhumnJY8x",
    "colab_type": "text"
   },
   "source": [
    "Perform a random search for the transformed dataset, using an SVM and a decision tree."
   ]
  },
  {
   "cell_type": "code",
   "metadata": {
    "colab_type": "code",
    "id": "bHwGpq6Arz3c",
    "outputId": "b819dc23-33c5-4ae3-f671-57cb4bd33a86",
    "colab": {
     "base_uri": "https://localhost:8080/",
     "height": 458
    }
   },
   "source": [
    "# Define classifiers.\n",
    "classifiers = {\n",
    "        'SVM': SVC(random_state=0),\n",
    "        'Tree': DecisionTreeClassifier(random_state=0)}\n",
    "\n",
    "# Create param dists.\n",
    "svm_param_dist = {'C': 10 ** np.random.uniform(-3, 3, size=7000),\n",
    "                  'gamma': np.random.uniform(.0001, .1, size=7000)\n",
    "}\n",
    "tree_param_dist = {'max_depth': scipy.stats.randint(1, 30),\n",
    "                   'max_features': scipy.stats.randint(1, X_train_transformed.shape[1]),\n",
    "                   'min_samples_split': scipy.stats.randint(2, X_train_transformed.shape[0] / 2),\n",
    "                   'criterion': ['gini', 'entropy']\n",
    "}\n",
    "# Add param dists to a list.\n",
    "params_list = [svm_param_dist, tree_param_dist]\n",
    "\n",
    "# Perform random search.\n",
    "for key, classifier ,params in zip(classifiers.keys(), classifiers.values(), params_list):\n",
    "    hyperparameters_search(classifier, params, X_train_transformed, y_train, 'Accuracy',\n",
    "                           {'Accuracy': make_scorer(accuracy_score)}, key, \n",
    "                           candidates=100, cv=5, random_search=True, verbose=5)"
   ],
   "execution_count": 22,
   "outputs": [
    {
     "output_type": "stream",
     "text": [
      "\n",
      "Εstimator : SVM\n",
      "Fitting 5 folds for each of 100 candidates, totalling 500 fits\n"
     ],
     "name": "stdout"
    },
    {
     "output_type": "stream",
     "text": [
      "[Parallel(n_jobs=-1)]: Using backend LokyBackend with 2 concurrent workers.\n",
      "[Parallel(n_jobs=-1)]: Done  14 tasks      | elapsed:   26.0s\n",
      "[Parallel(n_jobs=-1)]: Done  68 tasks      | elapsed:  1.9min\n",
      "[Parallel(n_jobs=-1)]: Done 158 tasks      | elapsed:  4.3min\n",
      "[Parallel(n_jobs=-1)]: Done 284 tasks      | elapsed:  7.9min\n",
      "[Parallel(n_jobs=-1)]: Done 446 tasks      | elapsed: 12.3min\n",
      "[Parallel(n_jobs=-1)]: Done 500 out of 500 | elapsed: 13.7min finished\n"
     ],
     "name": "stderr"
    },
    {
     "output_type": "stream",
     "text": [
      "Best parameters found for Estimator : SVM\n",
      "{'gamma': 0.09032598172924863, 'C': 0.6662618489707326}\n",
      "\n",
      "Best score found for Accuracy Score metric : 0.615\n",
      "\n",
      "Εstimator : Tree\n",
      "Fitting 5 folds for each of 100 candidates, totalling 500 fits\n"
     ],
     "name": "stdout"
    },
    {
     "output_type": "stream",
     "text": [
      "[Parallel(n_jobs=-1)]: Using backend LokyBackend with 2 concurrent workers.\n",
      "[Parallel(n_jobs=-1)]: Done 132 tasks      | elapsed:    1.3s\n"
     ],
     "name": "stderr"
    },
    {
     "output_type": "stream",
     "text": [
      "Best parameters found for Estimator : Tree\n",
      "{'criterion': 'gini', 'max_depth': 2, 'max_features': 2, 'min_samples_split': 208}\n",
      "\n",
      "Best score found for Accuracy Score metric : 0.614\n"
     ],
     "name": "stdout"
    },
    {
     "output_type": "stream",
     "text": [
      "[Parallel(n_jobs=-1)]: Done 500 out of 500 | elapsed:    5.5s finished\n"
     ],
     "name": "stderr"
    }
   ]
  },
  {
   "cell_type": "markdown",
   "metadata": {
    "colab_type": "text",
    "id": "Ld18AbB14bqy"
   },
   "source": [
    "## Grid Search"
   ]
  },
  {
   "cell_type": "markdown",
   "metadata": {
    "id": "iYJRt6w9Jlqd",
    "colab_type": "text"
   },
   "source": [
    "Perform a Grid search around the best areas that were found with the Random search above.  \n",
    "Add a Multinomial Bayes too."
   ]
  },
  {
   "cell_type": "code",
   "metadata": {
    "colab_type": "code",
    "id": "awxmc3yx4bq-",
    "outputId": "eb7fc91b-1db7-4638-c831-d3e4d18d6c13",
    "colab": {
     "base_uri": "https://localhost:8080/",
     "height": 605
    }
   },
   "source": [
    "# Define classifiers.\n",
    "classifiers = {\n",
    "        'SVM': SVC(random_state=0),\n",
    "        'Tree': DecisionTreeClassifier(random_state=0),\n",
    "        'Bayes': MultinomialNB()\n",
    "}\n",
    "\n",
    "# Create parameter grids.\n",
    "svm_grid = {\n",
    "        'C': np.arange(0.62, 0.68, 0.01),\n",
    "        'gamma': np.arange(0.08, 0.1, 0.01)\n",
    "}\n",
    "tree_grid = {\n",
    "        'max_depth': range(1, 5),\n",
    "        'max_features': range(1, 3),\n",
    "        'min_samples_split': range(206, 312),\n",
    "        'criterion': ['entropy', 'gini']\n",
    "}\n",
    "bayes_grid = {'alpha': np.arange(0, 10, 0.2)}\n",
    "# Add param grids to a list.\n",
    "params_list = [svm_grid, tree_grid, bayes_grid]\n",
    "\n",
    "# Perform grid search.\n",
    "for key, classifier ,params in zip(classifiers.keys(), classifiers.values(), params_list):\n",
    "    hyperparameters_search(classifier, params, X_train_transformed, y_train, 'Accuracy',\n",
    "                           {'Accuracy': make_scorer(accuracy_score)}, key, \n",
    "                           cv=5, random_search=False, verbose=5)"
   ],
   "execution_count": 25,
   "outputs": [
    {
     "output_type": "stream",
     "text": [
      "\n",
      "Εstimator : SVM\n",
      "Fitting 5 folds for each of 21 candidates, totalling 105 fits\n"
     ],
     "name": "stdout"
    },
    {
     "output_type": "stream",
     "text": [
      "[Parallel(n_jobs=-1)]: Using backend LokyBackend with 2 concurrent workers.\n",
      "[Parallel(n_jobs=-1)]: Done  14 tasks      | elapsed:   22.4s\n",
      "[Parallel(n_jobs=-1)]: Done  68 tasks      | elapsed:  1.7min\n",
      "[Parallel(n_jobs=-1)]: Done 105 out of 105 | elapsed:  2.6min finished\n"
     ],
     "name": "stderr"
    },
    {
     "output_type": "stream",
     "text": [
      "Best parameters found for Estimator : SVM\n",
      "{'C': 0.62, 'gamma': 0.08}\n",
      "\n",
      "Best score found for Accuracy Score metric : 0.615\n",
      "\n",
      "Εstimator : Tree\n",
      "Fitting 5 folds for each of 1696 candidates, totalling 8480 fits\n"
     ],
     "name": "stdout"
    },
    {
     "output_type": "stream",
     "text": [
      "[Parallel(n_jobs=-1)]: Using backend LokyBackend with 2 concurrent workers.\n",
      "[Parallel(n_jobs=-1)]: Done 376 tasks      | elapsed:    1.2s\n",
      "[Parallel(n_jobs=-1)]: Done 3292 tasks      | elapsed:   18.4s\n",
      "[Parallel(n_jobs=-1)]: Done 5803 tasks      | elapsed:   30.8s\n",
      "[Parallel(n_jobs=-1)]: Done 8480 out of 8480 | elapsed:   43.7s finished\n",
      "[Parallel(n_jobs=-1)]: Using backend LokyBackend with 2 concurrent workers.\n"
     ],
     "name": "stderr"
    },
    {
     "output_type": "stream",
     "text": [
      "Best parameters found for Estimator : Tree\n",
      "{'criterion': 'entropy', 'max_depth': 2, 'max_features': 2, 'min_samples_split': 206}\n",
      "\n",
      "Best score found for Accuracy Score metric : 0.615\n",
      "\n",
      "Εstimator : Bayes\n",
      "Fitting 5 folds for each of 50 candidates, totalling 250 fits\n",
      "Best parameters found for Estimator : Bayes\n",
      "{'alpha': 0.0}\n",
      "\n",
      "Best score found for Accuracy Score metric : 0.519\n"
     ],
     "name": "stdout"
    },
    {
     "output_type": "stream",
     "text": [
      "[Parallel(n_jobs=-1)]: Done 250 out of 250 | elapsed:    0.6s finished\n"
     ],
     "name": "stderr"
    }
   ]
  },
  {
   "cell_type": "markdown",
   "metadata": {
    "colab_type": "text",
    "id": "AToVtWTGtIlt"
   },
   "source": [
    "## Final classifier"
   ]
  },
  {
   "cell_type": "code",
   "metadata": {
    "colab_type": "code",
    "id": "-RD8o9IjtOt-",
    "colab": {}
   },
   "source": [
    "# Create the best classifier found from the search.\n",
    "clf = DecisionTreeClassifier(criterion='entropy', max_depth=2, max_features=2, \n",
    "                             min_samples_split=206, random_state=0)"
   ],
   "execution_count": 0,
   "outputs": []
  },
  {
   "cell_type": "markdown",
   "metadata": {
    "colab_type": "text",
    "id": "Gu1fGS5fKo83"
   },
   "source": [
    "# Results"
   ]
  },
  {
   "cell_type": "markdown",
   "metadata": {
    "id": "QHt3B8X4KGJt",
    "colab_type": "text"
   },
   "source": [
    "Fit the best classifier that was found from the search procedure and predict to the transformed test data."
   ]
  },
  {
   "cell_type": "code",
   "metadata": {
    "colab_type": "code",
    "id": "jeOvRUY3YFDT",
    "outputId": "40db8fc0-393d-415b-ed29-3af5f1b8b88e",
    "colab": {
     "base_uri": "https://localhost:8080/",
     "height": 127
    }
   },
   "source": [
    "clf.fit(X_train_transformed, y_train)\n",
    "y_pred = clf.predict(X_test_transformed)\n",
    "\n",
    "print('Final Results')\n",
    "print('---------------------')\n",
    "print('Accuracy       {:.4f}'\n",
    "      .format(accuracy_score(y_test, y_pred)))\n",
    "print('Precision      {:.4f}'\n",
    "      .format(precision_score(y_test, y_pred, average='macro')))\n",
    "print('Recall         {:.4f}'\n",
    "      .format(recall_score(y_test, y_pred, average='macro')))\n",
    "print('F1             {:.4f}'\n",
    "      .format(f1_score(y_test, y_pred, average='macro')))"
   ],
   "execution_count": 27,
   "outputs": [
    {
     "output_type": "stream",
     "text": [
      "Final Results\n",
      "---------------------\n",
      "Accuracy       0.6093\n",
      "Precision      0.8046\n",
      "Recall         0.5006\n",
      "F1             0.3798\n"
     ],
     "name": "stdout"
    }
   ]
  },
  {
   "cell_type": "markdown",
   "metadata": {
    "id": "2QM4Ol55KrF7",
    "colab_type": "text",
    "pycharm": {
     "name": "#%% md\n"
    }
   },
   "source": [
    "# Conclusion\n",
    "The K-Medoids approach, is a powerful method which gives us the ability to handle bags of instances in an interesting way. Creating a new dataset which is able to keep information of the initial, while reducing its complexity, can bring good and fast results.  \n",
    "However, the approach did not work as expected in our problem, because when a sentence is handled as an instance, an important part of the information is lost, as most of them are likely to be unique. When trying to solve a text problem, it may work better to use approaches that take words or bags of words into consideration, so that the features are directly connected with the documents."
   ]
  }
 ]
}